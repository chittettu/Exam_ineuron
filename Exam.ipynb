{
 "cells": [
  {
   "cell_type": "code",
   "execution_count": 1,
   "id": "0dc92d08",
   "metadata": {},
   "outputs": [],
   "source": [
    "def searchMatrix(matrix, target):\n",
    "    m = len(matrix)  \n",
    "    n = len(matrix[0])  \n",
    "\n",
    "    left, right = 0, m * n - 1\n",
    "    while left <= right:\n",
    "        mid = (left + right) // 2\n",
    "        row, col = mid // n, mid % n\n",
    "\n",
    "        if matrix[row][col] == target:\n",
    "            return True\n",
    "        elif matrix[row][col] < target:\n",
    "            left = mid + 1\n",
    "        else:\n",
    "            right = mid - 1\n",
    "\n",
    "    return False"
   ]
  },
  {
   "cell_type": "code",
   "execution_count": 2,
   "id": "b3f1a167",
   "metadata": {},
   "outputs": [
    {
     "data": {
      "text/plain": [
       "True"
      ]
     },
     "execution_count": 2,
     "metadata": {},
     "output_type": "execute_result"
    }
   ],
   "source": [
    "matrix= [[1,3,5,7],[10,11,16,20],[23,30,34,60]]\n",
    "target=3\n",
    "searchMatrix(matrix, target)"
   ]
  },
  {
   "cell_type": "code",
   "execution_count": 7,
   "id": "e38e9a3a",
   "metadata": {},
   "outputs": [],
   "source": [
    "def most_frequent_word_length(string):\n",
    "    string = string.lower()\n",
    "    for char in string:\n",
    "        if not char.isalnum():\n",
    "          string = string.replace(char, \" \")\n",
    "\n",
    "  # Split the string into words and count their frequencies.\n",
    "    word_counts = {}\n",
    "    for word in string.split():\n",
    "        if word in word_counts:\n",
    "          word_counts[word] += 1\n",
    "        else:\n",
    "          word_counts[word] = 1\n",
    "\n",
    "  # Find the word with the highest frequency and return its length.\n",
    "    max_frequency = max(word_counts.values())\n",
    "    for word, count in word_counts.items():\n",
    "        if count == max_frequency:\n",
    "          return len(word)\n",
    "\n"
   ]
  },
  {
   "cell_type": "code",
   "execution_count": 9,
   "id": "4e951cea",
   "metadata": {},
   "outputs": [],
   "source": [
    "string= \"write write write all the number from from from 1 to 100\""
   ]
  },
  {
   "cell_type": "code",
   "execution_count": 10,
   "id": "a5a54e1f",
   "metadata": {},
   "outputs": [
    {
     "data": {
      "text/plain": [
       "5"
      ]
     },
     "execution_count": 10,
     "metadata": {},
     "output_type": "execute_result"
    }
   ],
   "source": [
    "most_frequent_word_length(string)"
   ]
  }
 ],
 "metadata": {
  "kernelspec": {
   "display_name": "Python 3 (ipykernel)",
   "language": "python",
   "name": "python3"
  },
  "language_info": {
   "codemirror_mode": {
    "name": "ipython",
    "version": 3
   },
   "file_extension": ".py",
   "mimetype": "text/x-python",
   "name": "python",
   "nbconvert_exporter": "python",
   "pygments_lexer": "ipython3",
   "version": "3.9.12"
  }
 },
 "nbformat": 4,
 "nbformat_minor": 5
}
